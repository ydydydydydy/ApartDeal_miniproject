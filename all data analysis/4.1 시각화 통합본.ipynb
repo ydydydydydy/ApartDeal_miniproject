{
 "cells": [
  {
   "cell_type": "code",
   "execution_count": 3,
   "id": "a9191c70",
   "metadata": {},
   "outputs": [
    {
     "name": "stdout",
     "output_type": "stream",
     "text": [
      "Requirement already satisfied: folium in c:\\users\\smhrd\\anaconda3\\lib\\site-packages (0.15.1)\n",
      "Requirement already satisfied: branca>=0.6.0 in c:\\users\\smhrd\\anaconda3\\lib\\site-packages (from folium) (0.7.0)\n",
      "Requirement already satisfied: jinja2>=2.9 in c:\\users\\smhrd\\anaconda3\\lib\\site-packages (from folium) (3.1.2)\n",
      "Requirement already satisfied: numpy in c:\\users\\smhrd\\anaconda3\\lib\\site-packages (from folium) (1.24.3)\n",
      "Requirement already satisfied: requests in c:\\users\\smhrd\\anaconda3\\lib\\site-packages (from folium) (2.31.0)\n",
      "Requirement already satisfied: xyzservices in c:\\users\\smhrd\\anaconda3\\lib\\site-packages (from folium) (2022.9.0)\n",
      "Requirement already satisfied: MarkupSafe>=2.0 in c:\\users\\smhrd\\anaconda3\\lib\\site-packages (from jinja2>=2.9->folium) (2.1.1)\n",
      "Requirement already satisfied: charset-normalizer<4,>=2 in c:\\users\\smhrd\\anaconda3\\lib\\site-packages (from requests->folium) (2.0.4)\n",
      "Requirement already satisfied: idna<4,>=2.5 in c:\\users\\smhrd\\anaconda3\\lib\\site-packages (from requests->folium) (3.4)\n",
      "Requirement already satisfied: urllib3<3,>=1.21.1 in c:\\users\\smhrd\\anaconda3\\lib\\site-packages (from requests->folium) (1.26.16)\n",
      "Requirement already satisfied: certifi>=2017.4.17 in c:\\users\\smhrd\\anaconda3\\lib\\site-packages (from requests->folium) (2023.7.22)\n"
     ]
    }
   ],
   "source": [
    "import pandas as pd\n",
    "import numpy as np\n",
    "import matplotlib.pyplot as plt\n",
    "import seaborn as sns\n",
    "\n",
    "from scipy.stats import gaussian_kde\n",
    "\n",
    "\n",
    "# https://velog.io/@sirasony12/%EC%A7%80%EB%8F%84-%EC%8B%9C%EA%B0%81%ED%99%94\n",
    "\n",
    "!pip install folium\n",
    "import folium\n",
    "from folium import plugins\n",
    "\n",
    "import json"
   ]
  },
  {
   "cell_type": "code",
   "execution_count": 4,
   "id": "d7f15b55",
   "metadata": {},
   "outputs": [],
   "source": [
    "plt.rcParams['font.family'] = 'Malgun Gothic'"
   ]
  },
  {
   "cell_type": "code",
   "execution_count": 6,
   "id": "07940d7e",
   "metadata": {
    "scrolled": false
   },
   "outputs": [
    {
     "ename": "FileNotFoundError",
     "evalue": "[Errno 2] No such file or directory: './data/Apart Deal Updated.csv'",
     "output_type": "error",
     "traceback": [
      "\u001b[1;31m---------------------------------------------------------------------------\u001b[0m",
      "\u001b[1;31mFileNotFoundError\u001b[0m                         Traceback (most recent call last)",
      "Cell \u001b[1;32mIn[6], line 1\u001b[0m\n\u001b[1;32m----> 1\u001b[0m data \u001b[38;5;241m=\u001b[39m pd\u001b[38;5;241m.\u001b[39mread_csv(\u001b[38;5;124m\"\u001b[39m\u001b[38;5;124m./data/Apart Deal Updated.csv\u001b[39m\u001b[38;5;124m\"\u001b[39m)\n\u001b[0;32m      2\u001b[0m data\u001b[38;5;241m.\u001b[39mdrop([\u001b[38;5;124m'\u001b[39m\u001b[38;5;124mUnnamed: 0\u001b[39m\u001b[38;5;124m'\u001b[39m], axis \u001b[38;5;241m=\u001b[39m \u001b[38;5;241m1\u001b[39m, inplace \u001b[38;5;241m=\u001b[39m \u001b[38;5;28;01mTrue\u001b[39;00m)\n\u001b[0;32m      3\u001b[0m sidoDong \u001b[38;5;241m=\u001b[39m pd\u001b[38;5;241m.\u001b[39mread_csv(\u001b[38;5;124m\"\u001b[39m\u001b[38;5;124m./data/sidoDong_pop_latlng.csv\u001b[39m\u001b[38;5;124m\"\u001b[39m)\n",
      "File \u001b[1;32m~\\anaconda3\\Lib\\site-packages\\pandas\\io\\parsers\\readers.py:912\u001b[0m, in \u001b[0;36mread_csv\u001b[1;34m(filepath_or_buffer, sep, delimiter, header, names, index_col, usecols, dtype, engine, converters, true_values, false_values, skipinitialspace, skiprows, skipfooter, nrows, na_values, keep_default_na, na_filter, verbose, skip_blank_lines, parse_dates, infer_datetime_format, keep_date_col, date_parser, date_format, dayfirst, cache_dates, iterator, chunksize, compression, thousands, decimal, lineterminator, quotechar, quoting, doublequote, escapechar, comment, encoding, encoding_errors, dialect, on_bad_lines, delim_whitespace, low_memory, memory_map, float_precision, storage_options, dtype_backend)\u001b[0m\n\u001b[0;32m    899\u001b[0m kwds_defaults \u001b[38;5;241m=\u001b[39m _refine_defaults_read(\n\u001b[0;32m    900\u001b[0m     dialect,\n\u001b[0;32m    901\u001b[0m     delimiter,\n\u001b[1;32m   (...)\u001b[0m\n\u001b[0;32m    908\u001b[0m     dtype_backend\u001b[38;5;241m=\u001b[39mdtype_backend,\n\u001b[0;32m    909\u001b[0m )\n\u001b[0;32m    910\u001b[0m kwds\u001b[38;5;241m.\u001b[39mupdate(kwds_defaults)\n\u001b[1;32m--> 912\u001b[0m \u001b[38;5;28;01mreturn\u001b[39;00m _read(filepath_or_buffer, kwds)\n",
      "File \u001b[1;32m~\\anaconda3\\Lib\\site-packages\\pandas\\io\\parsers\\readers.py:577\u001b[0m, in \u001b[0;36m_read\u001b[1;34m(filepath_or_buffer, kwds)\u001b[0m\n\u001b[0;32m    574\u001b[0m _validate_names(kwds\u001b[38;5;241m.\u001b[39mget(\u001b[38;5;124m\"\u001b[39m\u001b[38;5;124mnames\u001b[39m\u001b[38;5;124m\"\u001b[39m, \u001b[38;5;28;01mNone\u001b[39;00m))\n\u001b[0;32m    576\u001b[0m \u001b[38;5;66;03m# Create the parser.\u001b[39;00m\n\u001b[1;32m--> 577\u001b[0m parser \u001b[38;5;241m=\u001b[39m TextFileReader(filepath_or_buffer, \u001b[38;5;241m*\u001b[39m\u001b[38;5;241m*\u001b[39mkwds)\n\u001b[0;32m    579\u001b[0m \u001b[38;5;28;01mif\u001b[39;00m chunksize \u001b[38;5;129;01mor\u001b[39;00m iterator:\n\u001b[0;32m    580\u001b[0m     \u001b[38;5;28;01mreturn\u001b[39;00m parser\n",
      "File \u001b[1;32m~\\anaconda3\\Lib\\site-packages\\pandas\\io\\parsers\\readers.py:1407\u001b[0m, in \u001b[0;36mTextFileReader.__init__\u001b[1;34m(self, f, engine, **kwds)\u001b[0m\n\u001b[0;32m   1404\u001b[0m     \u001b[38;5;28mself\u001b[39m\u001b[38;5;241m.\u001b[39moptions[\u001b[38;5;124m\"\u001b[39m\u001b[38;5;124mhas_index_names\u001b[39m\u001b[38;5;124m\"\u001b[39m] \u001b[38;5;241m=\u001b[39m kwds[\u001b[38;5;124m\"\u001b[39m\u001b[38;5;124mhas_index_names\u001b[39m\u001b[38;5;124m\"\u001b[39m]\n\u001b[0;32m   1406\u001b[0m \u001b[38;5;28mself\u001b[39m\u001b[38;5;241m.\u001b[39mhandles: IOHandles \u001b[38;5;241m|\u001b[39m \u001b[38;5;28;01mNone\u001b[39;00m \u001b[38;5;241m=\u001b[39m \u001b[38;5;28;01mNone\u001b[39;00m\n\u001b[1;32m-> 1407\u001b[0m \u001b[38;5;28mself\u001b[39m\u001b[38;5;241m.\u001b[39m_engine \u001b[38;5;241m=\u001b[39m \u001b[38;5;28mself\u001b[39m\u001b[38;5;241m.\u001b[39m_make_engine(f, \u001b[38;5;28mself\u001b[39m\u001b[38;5;241m.\u001b[39mengine)\n",
      "File \u001b[1;32m~\\anaconda3\\Lib\\site-packages\\pandas\\io\\parsers\\readers.py:1661\u001b[0m, in \u001b[0;36mTextFileReader._make_engine\u001b[1;34m(self, f, engine)\u001b[0m\n\u001b[0;32m   1659\u001b[0m     \u001b[38;5;28;01mif\u001b[39;00m \u001b[38;5;124m\"\u001b[39m\u001b[38;5;124mb\u001b[39m\u001b[38;5;124m\"\u001b[39m \u001b[38;5;129;01mnot\u001b[39;00m \u001b[38;5;129;01min\u001b[39;00m mode:\n\u001b[0;32m   1660\u001b[0m         mode \u001b[38;5;241m+\u001b[39m\u001b[38;5;241m=\u001b[39m \u001b[38;5;124m\"\u001b[39m\u001b[38;5;124mb\u001b[39m\u001b[38;5;124m\"\u001b[39m\n\u001b[1;32m-> 1661\u001b[0m \u001b[38;5;28mself\u001b[39m\u001b[38;5;241m.\u001b[39mhandles \u001b[38;5;241m=\u001b[39m get_handle(\n\u001b[0;32m   1662\u001b[0m     f,\n\u001b[0;32m   1663\u001b[0m     mode,\n\u001b[0;32m   1664\u001b[0m     encoding\u001b[38;5;241m=\u001b[39m\u001b[38;5;28mself\u001b[39m\u001b[38;5;241m.\u001b[39moptions\u001b[38;5;241m.\u001b[39mget(\u001b[38;5;124m\"\u001b[39m\u001b[38;5;124mencoding\u001b[39m\u001b[38;5;124m\"\u001b[39m, \u001b[38;5;28;01mNone\u001b[39;00m),\n\u001b[0;32m   1665\u001b[0m     compression\u001b[38;5;241m=\u001b[39m\u001b[38;5;28mself\u001b[39m\u001b[38;5;241m.\u001b[39moptions\u001b[38;5;241m.\u001b[39mget(\u001b[38;5;124m\"\u001b[39m\u001b[38;5;124mcompression\u001b[39m\u001b[38;5;124m\"\u001b[39m, \u001b[38;5;28;01mNone\u001b[39;00m),\n\u001b[0;32m   1666\u001b[0m     memory_map\u001b[38;5;241m=\u001b[39m\u001b[38;5;28mself\u001b[39m\u001b[38;5;241m.\u001b[39moptions\u001b[38;5;241m.\u001b[39mget(\u001b[38;5;124m\"\u001b[39m\u001b[38;5;124mmemory_map\u001b[39m\u001b[38;5;124m\"\u001b[39m, \u001b[38;5;28;01mFalse\u001b[39;00m),\n\u001b[0;32m   1667\u001b[0m     is_text\u001b[38;5;241m=\u001b[39mis_text,\n\u001b[0;32m   1668\u001b[0m     errors\u001b[38;5;241m=\u001b[39m\u001b[38;5;28mself\u001b[39m\u001b[38;5;241m.\u001b[39moptions\u001b[38;5;241m.\u001b[39mget(\u001b[38;5;124m\"\u001b[39m\u001b[38;5;124mencoding_errors\u001b[39m\u001b[38;5;124m\"\u001b[39m, \u001b[38;5;124m\"\u001b[39m\u001b[38;5;124mstrict\u001b[39m\u001b[38;5;124m\"\u001b[39m),\n\u001b[0;32m   1669\u001b[0m     storage_options\u001b[38;5;241m=\u001b[39m\u001b[38;5;28mself\u001b[39m\u001b[38;5;241m.\u001b[39moptions\u001b[38;5;241m.\u001b[39mget(\u001b[38;5;124m\"\u001b[39m\u001b[38;5;124mstorage_options\u001b[39m\u001b[38;5;124m\"\u001b[39m, \u001b[38;5;28;01mNone\u001b[39;00m),\n\u001b[0;32m   1670\u001b[0m )\n\u001b[0;32m   1671\u001b[0m \u001b[38;5;28;01massert\u001b[39;00m \u001b[38;5;28mself\u001b[39m\u001b[38;5;241m.\u001b[39mhandles \u001b[38;5;129;01mis\u001b[39;00m \u001b[38;5;129;01mnot\u001b[39;00m \u001b[38;5;28;01mNone\u001b[39;00m\n\u001b[0;32m   1672\u001b[0m f \u001b[38;5;241m=\u001b[39m \u001b[38;5;28mself\u001b[39m\u001b[38;5;241m.\u001b[39mhandles\u001b[38;5;241m.\u001b[39mhandle\n",
      "File \u001b[1;32m~\\anaconda3\\Lib\\site-packages\\pandas\\io\\common.py:859\u001b[0m, in \u001b[0;36mget_handle\u001b[1;34m(path_or_buf, mode, encoding, compression, memory_map, is_text, errors, storage_options)\u001b[0m\n\u001b[0;32m    854\u001b[0m \u001b[38;5;28;01melif\u001b[39;00m \u001b[38;5;28misinstance\u001b[39m(handle, \u001b[38;5;28mstr\u001b[39m):\n\u001b[0;32m    855\u001b[0m     \u001b[38;5;66;03m# Check whether the filename is to be opened in binary mode.\u001b[39;00m\n\u001b[0;32m    856\u001b[0m     \u001b[38;5;66;03m# Binary mode does not support 'encoding' and 'newline'.\u001b[39;00m\n\u001b[0;32m    857\u001b[0m     \u001b[38;5;28;01mif\u001b[39;00m ioargs\u001b[38;5;241m.\u001b[39mencoding \u001b[38;5;129;01mand\u001b[39;00m \u001b[38;5;124m\"\u001b[39m\u001b[38;5;124mb\u001b[39m\u001b[38;5;124m\"\u001b[39m \u001b[38;5;129;01mnot\u001b[39;00m \u001b[38;5;129;01min\u001b[39;00m ioargs\u001b[38;5;241m.\u001b[39mmode:\n\u001b[0;32m    858\u001b[0m         \u001b[38;5;66;03m# Encoding\u001b[39;00m\n\u001b[1;32m--> 859\u001b[0m         handle \u001b[38;5;241m=\u001b[39m \u001b[38;5;28mopen\u001b[39m(\n\u001b[0;32m    860\u001b[0m             handle,\n\u001b[0;32m    861\u001b[0m             ioargs\u001b[38;5;241m.\u001b[39mmode,\n\u001b[0;32m    862\u001b[0m             encoding\u001b[38;5;241m=\u001b[39mioargs\u001b[38;5;241m.\u001b[39mencoding,\n\u001b[0;32m    863\u001b[0m             errors\u001b[38;5;241m=\u001b[39merrors,\n\u001b[0;32m    864\u001b[0m             newline\u001b[38;5;241m=\u001b[39m\u001b[38;5;124m\"\u001b[39m\u001b[38;5;124m\"\u001b[39m,\n\u001b[0;32m    865\u001b[0m         )\n\u001b[0;32m    866\u001b[0m     \u001b[38;5;28;01melse\u001b[39;00m:\n\u001b[0;32m    867\u001b[0m         \u001b[38;5;66;03m# Binary mode\u001b[39;00m\n\u001b[0;32m    868\u001b[0m         handle \u001b[38;5;241m=\u001b[39m \u001b[38;5;28mopen\u001b[39m(handle, ioargs\u001b[38;5;241m.\u001b[39mmode)\n",
      "\u001b[1;31mFileNotFoundError\u001b[0m: [Errno 2] No such file or directory: './data/Apart Deal Updated.csv'"
     ]
    }
   ],
   "source": [
    "data = pd.read_csv(\"./data/Apart Deal Updated.csv\")\n",
    "data.drop(['Unnamed: 0'], axis = 1, inplace = True)\n",
    "sidoDong = pd.read_csv(\"./data/sidoDong_pop_latlng.csv\")\n",
    "sidoDong.drop(['Unnamed: 0'], axis = 1, inplace = True)\n",
    "\n",
    "sidoDong['평당거래금액'] = sidoDong['평균거래금액']/sidoDong['평균전용면적']"
   ]
  },
  {
   "cell_type": "code",
   "execution_count": null,
   "id": "efddbfad",
   "metadata": {},
   "outputs": [],
   "source": [
    "data"
   ]
  },
  {
   "cell_type": "code",
   "execution_count": null,
   "id": "92817215",
   "metadata": {},
   "outputs": [],
   "source": [
    "sidoDong"
   ]
  },
  {
   "cell_type": "code",
   "execution_count": null,
   "id": "bd46afdb",
   "metadata": {},
   "outputs": [],
   "source": [
    "## 위도 경도의 평균값 ==> 지도의 ㄱ중심\n",
    "# x_center = sidoDong['latitude'].mean()\n",
    "# y_center = sidoDong['longitude'].mean()\n",
    "\n",
    "x_center = 36.2879809\n",
    "y_center = 128.0745511"
   ]
  },
  {
   "cell_type": "code",
   "execution_count": null,
   "id": "8bd6ef55",
   "metadata": {},
   "outputs": [],
   "source": [
    "## 지도에 시도 구분선\n",
    "\n",
    "with open('./data/skorea-provinces-geo.json' , mode='rt', encoding='utf-8') as f:\n",
    "   geo = json.loads(f.read())\n",
    "   f.close()"
   ]
  },
  {
   "cell_type": "code",
   "execution_count": null,
   "id": "8e204126",
   "metadata": {
    "scrolled": false
   },
   "outputs": [],
   "source": [
    "## 평균거래금액 시각화\n",
    "\n",
    "m = folium.Map([x_center, y_center], zoom_start = 6.8)\n",
    "\n",
    "folium.GeoJson(geo, name='skorea-provinces-geo',\n",
    "              style_function=lambda feature: {\n",
    "        \"fillColor\": \"#ffffff\",\n",
    "        \"color\": \"black\",\n",
    "        \"weight\": 2,\n",
    "        \"dashArray\": \"5, 5\",\n",
    "        },\n",
    "              ).add_to(m)\n",
    "\n",
    "\n",
    "m.add_child(plugins.HeatMap(zip(sidoDong['latitude'],\n",
    "                               sidoDong['longitude'],\n",
    "                               sidoDong['평균거래금액']), radius=16))\n",
    "    \n",
    "m.save('평균거래금액.html')\n",
    "m"
   ]
  },
  {
   "cell_type": "code",
   "execution_count": null,
   "id": "11f29694",
   "metadata": {
    "scrolled": false
   },
   "outputs": [],
   "source": [
    "m2 = folium.Map([x_center, y_center], zoom_start = 6.8)\n",
    "\n",
    "folium.GeoJson(geo, name='skorea-provinces-geo',\n",
    "              style_function=lambda feature: {\n",
    "        \"fillColor\": \"#ffffff\",\n",
    "        \"color\": \"black\",\n",
    "        \"weight\": 1.5,\n",
    "        \"dashArray\": \"5, 5\",\n",
    "        },\n",
    "              ).add_to(m2)\n",
    "\n",
    "m2.add_child(plugins.HeatMap(zip(sidoDong['latitude'],\n",
    "                               sidoDong['longitude'],\n",
    "                               sidoDong['거래수']), radius=16))\n",
    "  \n",
    "m2.save(\"거래수.html\")\n",
    "m2"
   ]
  },
  {
   "cell_type": "code",
   "execution_count": null,
   "id": "bd18aa65",
   "metadata": {
    "scrolled": true
   },
   "outputs": [],
   "source": [
    "m3 = folium.Map([x_center, y_center], zoom_start = 6.8)\n",
    "\n",
    "folium.GeoJson(geo, name='skorea-provinces-geo',\n",
    "              style_function=lambda feature: {\n",
    "        \"fillColor\": \"#ffffff\",\n",
    "        \"color\": \"black\",\n",
    "        \"weight\": 1.5,\n",
    "        \"dashArray\": \"5, 5\",\n",
    "        },\n",
    "              ).add_to(m3)\n",
    "\n",
    "m3.add_child(plugins.HeatMap(zip(sidoDong['latitude'],\n",
    "                               sidoDong['longitude'],\n",
    "                               sidoDong['인구수']), radius=16))\n",
    "    \n",
    "m3.save(\"인구수.html\")\n",
    "m3"
   ]
  },
  {
   "cell_type": "code",
   "execution_count": null,
   "id": "aa25c786",
   "metadata": {
    "scrolled": false
   },
   "outputs": [],
   "source": [
    "m4 = folium.Map([x_center, y_center], zoom_start = 6.8)\n",
    "\n",
    "\n",
    "folium.GeoJson(geo, name='skorea-provinces-geo',\n",
    "              style_function=lambda feature: {\n",
    "        \"fillColor\": \"#ffffff\",\n",
    "        \"color\": \"black\",\n",
    "        \"weight\": 1,\n",
    "        \"dashArray\": \"5, 5\",\n",
    "        },\n",
    "              ).add_to(m4)\n",
    "\n",
    "\n",
    "m4.add_child(plugins.HeatMap(zip(sidoDong['latitude'],\n",
    "                               sidoDong['longitude'],\n",
    "                               sidoDong['평균전용면적']), radius=16))\n",
    "    \n",
    "m4.save(\"평균전용면적.html\")\n",
    "m4"
   ]
  },
  {
   "cell_type": "code",
   "execution_count": null,
   "id": "f05d0bb6",
   "metadata": {
    "scrolled": true
   },
   "outputs": [],
   "source": [
    "m4 = folium.Map([x_center, y_center], zoom_start = 6.8)\n",
    "\n",
    "folium.GeoJson(geo, name='skorea-provinces-geo',\n",
    "              style_function=lambda feature: {\n",
    "        \"fillColor\": \"#ffffff\",\n",
    "        \"color\": \"black\",\n",
    "        \"weight\": 1,\n",
    "        \"dashArray\": \"5, 5\",\n",
    "        },\n",
    "              ).add_to(m4)\n",
    "\n",
    "\n",
    "\n",
    "m4.add_child(plugins.HeatMap(zip(sidoDong['latitude'],\n",
    "                               sidoDong['longitude'],\n",
    "                               sidoDong['평당거래금액']), radius=16))\n",
    "    \n",
    "m4.save(\"평당 거래금액.html\")\n",
    "m4"
   ]
  },
  {
   "cell_type": "code",
   "execution_count": null,
   "id": "3d026141",
   "metadata": {},
   "outputs": [],
   "source": [
    "sidoDong.sort_values('평당거래금액',ascending=False)"
   ]
  },
  {
   "cell_type": "code",
   "execution_count": null,
   "id": "d5ec99ad",
   "metadata": {},
   "outputs": [],
   "source": [
    "### 시도별로 데이터 정리\n",
    "\n",
    "temp = sidoDong.copy()\n",
    "temp['총거래금액'] = temp['평균거래금액'] * temp['거래수']\n",
    "\n",
    "\n",
    "sidoData = temp.groupby('시도', as_index=False).agg(총거래금액 = ('총거래금액','sum'), \n",
    "                                                      총거래수=('거래수','sum'),\n",
    "                                                    인구수 = ('인구수','sum')\n",
    "                                                  \n",
    "                                                     )\n",
    "sidoData['평균거래금액(만원)'] = (sidoData['총거래금액'] / sidoData['총거래수']).round(2)\n",
    "sidoData['1인당평균거래금액'] = sidoData['총거래금액'] / sidoData['인구수']\n",
    "\n",
    "\n",
    "\n",
    "# https://eis.work.go.kr/eisps/main/index.do\n",
    "## 일자리 수\n",
    "list_sido = ['서울','대구','광주','울산','경기','충남','전남','경남',\n",
    "             '강원','부산','인천','대전','세종','충북','전북','경북','제주']\n",
    "list_emp = [34102, 8288, 4043, 6018, 65503, 11499, 11546, 19885, 7319, \n",
    "            13559, 13542, 3266, 1702, 10051, 11425, 13921, 2957]\n",
    "dic = {'시도' : list_sido, '일자리수' : list_emp}\n",
    "empData = pd.DataFrame(dic)\n",
    "sidoData = sidoData.merge(empData, how=\"inner\")\n",
    "\n",
    "## 인구대비 일자리수\n",
    "sidoData['인구대비일자리'] = (sidoData['일자리수'] / sidoData['인구수']) * 100\n",
    "\n",
    "\n",
    "# https://kosis.kr/statHtml/statHtml.do?orgId=101&tblId=DT_1DA7035\n",
    "##  시도별 평균 임금\n",
    "sidoYeonbong = pd.read_csv(\"./data/행정구역_시도___산업_규모별_임금_및_근로시간_상용근로자_상용근로자_5인이상_사업체__20240102121032.csv\", encoding='euc-kr')\n",
    "sidoYeonbong.drop(columns = ['산업분류별', '규모별', '2019', '2019.1', '2019.2', '2019.3', '2019.5', '2019.6', '2019.7'], inplace=True)\n",
    "sidoYeonbong.columns=['시도','상용월급여액(만원)']\n",
    "\n",
    "sidoYeonbong.drop(0,axis=0, inplace=True)\n",
    "sidoYeonbong.iloc[0]['시도'] = '전국'\n",
    "\n",
    "sidoYeonbong['상용월급여액(만원)'] = sidoYeonbong['상용월급여액(만원)'].astype(int)\n",
    "sidoYeonbong['상용월급여액(만원)'] = (sidoYeonbong['상용월급여액(만원)']/10000).round(2)\n",
    "sidoYeonbong['연봉(만원)'] = sidoYeonbong['상용월급여액(만원)']*12\n",
    "\n",
    "totalYeonbong = sidoYeonbong.iloc[0]['연봉(만원)']\n",
    "sidoYeonbong.drop(1,axis=0, inplace=True)\n",
    "\n",
    "sidoData = sidoData.merge(sidoYeonbong, how=\"inner\")\n",
    "\n",
    "\n",
    "### 시도별 평균거래금액/ 평균연봉\n",
    "sidoData['연봉대비거래금액'] = (sidoData['평균거래금액(만원)'])/sidoData['연봉(만원)']\n",
    "\n",
    "\n",
    "sidoCopy = sidoData.copy()\n",
    "sidoData.to_csv(\"./data/sidoManyData.csv\")\n",
    "sidoData\n",
    "\n"
   ]
  },
  {
   "cell_type": "code",
   "execution_count": null,
   "id": "2a984af5",
   "metadata": {
    "scrolled": false
   },
   "outputs": [],
   "source": [
    "plt.figure(figsize=(10,4))\n",
    "\n",
    "sidoCopy.sort_values('평균거래금액(만원)', ascending=False, inplace=True)\n",
    "\n",
    "plt.bar(sidoCopy['시도'], sidoCopy['평균거래금액(만원)']/10000)\n",
    "\n",
    "plt.xticks(rotation=70) \n",
    "plt.title(\"시도별 평균거래금액\")\n",
    "plt.ylabel(\"평균거래금액(억)\")\n",
    "plt.grid(True, color = 'grey', linestyle=\":\")\n",
    "\n",
    "plt.show()"
   ]
  },
  {
   "cell_type": "code",
   "execution_count": null,
   "id": "b06533d9",
   "metadata": {
    "scrolled": false
   },
   "outputs": [],
   "source": [
    "plt.figure(figsize=(10,4))\n",
    "\n",
    "\n",
    "sidoCopy.sort_values('총거래수', ascending=False, inplace=True)\n",
    "\n",
    "plt.bar(sidoCopy['시도'], sidoCopy['총거래수']/10000)\n",
    "plt.xticks(rotation=70) \n",
    "plt.title(\"시도별 거래수 (만 건)\")\n",
    "plt.ylabel(\"거래수 (만 건)\")\n",
    "plt.yticks(range(0,150,30))\n",
    "plt.grid(True, color = 'grey', linestyle=\":\")\n",
    "plt.show()"
   ]
  },
  {
   "cell_type": "code",
   "execution_count": null,
   "id": "42ee8ea8",
   "metadata": {
    "scrolled": false
   },
   "outputs": [],
   "source": [
    "plt.figure(figsize=(10,4))\n",
    "\n",
    "\n",
    "sidoCopy.sort_values('인구수', ascending=False, inplace=True)\n",
    "\n",
    "plt.bar(sidoCopy['시도'], sidoCopy['인구수']/10000)\n",
    "plt.xticks(rotation=70) \n",
    "plt.title(\"시도별 인구수\")\n",
    "plt.ylabel(\"인구수 (만 명)\")\n",
    "plt.grid(True, color = 'grey', linestyle=\":\")\n",
    "plt.show()\n",
    "\n"
   ]
  },
  {
   "cell_type": "code",
   "execution_count": null,
   "id": "d4ff0d18",
   "metadata": {},
   "outputs": [],
   "source": [
    "# temp = sidoDong.copy()\n",
    "# temp['총거래금액'] = temp['평균거래금액'] * temp['거래수']\n",
    "\n",
    "# sidoPricePer = temp.groupby('시도', as_index=False).agg(시도별총거래금액 = ('총거래금액','sum'), 총인구 = ('인구수','sum'))\n",
    "\n",
    "# sidoPricePer['1인당평균거래금액'] = sidoPricePer['시도별총거래금액'] / sidoPricePer['총인구']\n",
    "\n",
    "plt.figure(figsize=(10,4))\n",
    "\n",
    "\n",
    "sidoCopy.sort_values('1인당평균거래금액', ascending=False, inplace=True)\n",
    "\n",
    "\n",
    "plt.bar(sidoCopy['시도'], sidoCopy['1인당평균거래금액'])\n",
    "plt.xticks(rotation=70) \n",
    "plt.title(\"시도별 1인당 평균거래금액\")\n",
    "plt.ylabel(\"평균거래금액(만 원)\")\n",
    "plt.grid(True, color = 'grey', linestyle=\":\")\n",
    "\n",
    "\n",
    "plt.show()\n",
    "\n",
    "\n"
   ]
  },
  {
   "cell_type": "markdown",
   "id": "4936c910",
   "metadata": {},
   "source": [
    "## 시도 별 일자리 수 "
   ]
  },
  {
   "cell_type": "code",
   "execution_count": null,
   "id": "2aae4e59",
   "metadata": {},
   "outputs": [],
   "source": [
    "\n",
    "\n",
    "sidoCopy.sort_values('1인당평균거래금액', ascending=False, inplace=True)\n",
    "\n",
    "\n",
    "\n",
    "list_explode = [0 for i in range(sidoCopy['일자리수'].size)]\n",
    "list_explode[0] = 0.1\n",
    "list_explode[1] = 0.1\n",
    "list_explode[-1] = 0.1\n",
    "\n",
    "colors = sns.color_palette(\"Set2\")\n",
    "plt.pie(sidoCopy['일자리수'],labels=sidoCopy['시도'] ,\n",
    "        autopct=\"%.1f%%\", colors = colors, explode = list_explode , radius=1.5)\n",
    "plt.title('시도별 일자리 수', pad = 60)\n",
    "plt.legend(bbox_to_anchor=(1.5, 1.0), loc=\"upper left\")\n",
    "\n",
    "plt.savefig(\"./data/시도별일자리수.jpeg\")\n",
    "plt.show()\n"
   ]
  },
  {
   "cell_type": "code",
   "execution_count": null,
   "id": "0ef63590",
   "metadata": {},
   "outputs": [],
   "source": [
    "\n",
    "sidoCopy.sort_values('1인당평균거래금액', ascending=False, inplace=True)\n",
    "\n",
    "colors = sns.color_palette(\"Set2\")\n",
    "plt.pie(sidoCopy['인구대비일자리'],labels=sidoCopy['시도'] ,\n",
    "        autopct=\"%.1f%%\", colors = colors, explode = list_explode , radius=1.5)\n",
    "plt.title('시도별 인구대비 일자리 수', pad = 60)\n",
    "plt.legend(bbox_to_anchor=(1.5, 1.0), loc=\"upper left\")\n",
    "\n",
    "\n",
    "plt.show()"
   ]
  },
  {
   "cell_type": "code",
   "execution_count": null,
   "id": "c38b7ecd",
   "metadata": {},
   "outputs": [],
   "source": [
    "### 시도별 평균연봉\n",
    "\n",
    "plt.figure(figsize=(10,4))\n",
    "\n",
    "sidoCopy.sort_values('연봉(만원)', ascending=False, inplace=True)\n",
    "\n",
    "plt.bar(sidoCopy['시도'], sidoCopy['연봉(만원)'])\n",
    "\n",
    "plt.xticks(rotation=70) \n",
    "plt.title(\"시도 별 평균 연봉\")\n",
    "plt.ylabel(\"평균 연봉 (만원)\")\n",
    "plt.ylim(2000)\n",
    "plt.yticks(range(2000,5000,500))\n",
    "plt.hlines(totalYeonbong, -1, 17, color='gray', linestyle='solid', linewidth=3)\n",
    "plt.text(17, (totalYeonbong - 190), '전국평균연봉', ha='right', va='center')\n",
    "\n",
    "plt.grid(True, color = 'grey', linestyle=\":\")\n",
    "\n",
    "plt.savefig(\"./data/시도별평균연봉.jpeg\")\n",
    "\n",
    "plt.show()"
   ]
  },
  {
   "cell_type": "code",
   "execution_count": null,
   "id": "b438c049",
   "metadata": {},
   "outputs": [],
   "source": [
    "import matplotlib.colors as mcolors"
   ]
  },
  {
   "cell_type": "code",
   "execution_count": null,
   "id": "1f36d65f",
   "metadata": {},
   "outputs": [],
   "source": [
    "plt.figure(figsize=(10,4))\n",
    "\n",
    "sidoCopy.sort_values('연봉대비거래금액', ascending=False, inplace=True)\n",
    "\n",
    "plt.bar(sidoCopy['시도'], sidoCopy['연봉대비거래금액'], color='seagreen')\n",
    "\n",
    "plt.xticks(rotation=70) \n",
    "plt.title(\"연봉 대비 거래금액\")\n",
    "plt.ylabel(\"연봉 대비 거래금액\")\n",
    "\n",
    "plt.grid(True, color = 'grey', linestyle=\":\")\n",
    "\n",
    "plt.savefig(\"./data/연봉대비거래금액.jpeg\")\n",
    "plt.show()"
   ]
  }
 ],
 "metadata": {
  "kernelspec": {
   "display_name": "Python 3 (ipykernel)",
   "language": "python",
   "name": "python3"
  },
  "language_info": {
   "codemirror_mode": {
    "name": "ipython",
    "version": 3
   },
   "file_extension": ".py",
   "mimetype": "text/x-python",
   "name": "python",
   "nbconvert_exporter": "python",
   "pygments_lexer": "ipython3",
   "version": "3.11.5"
  }
 },
 "nbformat": 4,
 "nbformat_minor": 5
}
